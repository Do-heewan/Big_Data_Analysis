{
 "cells": [
  {
   "cell_type": "code",
   "execution_count": 2,
   "metadata": {},
   "outputs": [],
   "source": [
    "# 데이터셋 정의\n",
    "data = [[1, 2], [2, 3], [2, 0]]"
   ]
  },
  {
   "cell_type": "code",
   "execution_count": 3,
   "metadata": {},
   "outputs": [
    {
     "data": {
      "text/plain": [
       "\"# 결과 출력을 보기 좋게 형식화\\nfor row in chi_square_table:\\n    print('\\t'.join(map(str, row)))\""
      ]
     },
     "execution_count": 3,
     "metadata": {},
     "output_type": "execute_result"
    }
   ],
   "source": [
    "import pandas as pd\n",
    "import scipy.stats as stats\n",
    "\n",
    "# 자유도 설정\n",
    "degrees_of_freedom = [1, 2, 3, 4, 5, 6, 7, 8, 9, 10]\n",
    "\n",
    "# 주요 유의수준 설정\n",
    "significance_levels = [0.99, 0.95, 0.90, 0.75, 0.50, 0.25, 0.10, 0.05, 0.01]\n",
    "significance_levels_mapping = {0.99 : 1, 0.95 : 2, 0.90 : 3, 0.75 : 4, 0.50 : 5, 0.25 : 6, 0.10 : 7, 0.05 : 8, 0.01 : 9}\n",
    "\n",
    "# 자유도별 임계값 계산을 위한 데이터프레임 생성\n",
    "chi_square_table = []\n",
    "chi_square_table.append([])\n",
    "\n",
    "# 각 자유도별로 임계값 계산\n",
    "for df in degrees_of_freedom:\n",
    "    row = [df]  # 각 행의 첫 번째 열은 자유도\n",
    "    for alpha in significance_levels:\n",
    "        critical_value = round(stats.chi2.ppf(1 - alpha, df), 3)\n",
    "        row.append(critical_value)\n",
    "    chi_square_table.append(row)\n",
    "\n",
    "\n",
    "'''# 결과 출력을 보기 좋게 형식화\n",
    "for row in chi_square_table:\n",
    "    print('\\t'.join(map(str, row)))'''"
   ]
  },
  {
   "cell_type": "code",
   "execution_count": 4,
   "metadata": {},
   "outputs": [
    {
     "name": "stdout",
     "output_type": "stream",
     "text": [
      "[[1, 2], [2, 3], [2, 0]]\n",
      "행 길이 : 3, 열 길이 : 2\n"
     ]
    }
   ],
   "source": [
    "x = len(data)\n",
    "y = len(data[0])\n",
    "\n",
    "print(data)\n",
    "print(f\"행 길이 : {x}, 열 길이 : {y}\")"
   ]
  },
  {
   "cell_type": "code",
   "execution_count": 5,
   "metadata": {},
   "outputs": [
    {
     "data": {
      "text/plain": [
       "[[1, 2, 3], [2, 3, 5], [2, 0, 2]]"
      ]
     },
     "execution_count": 5,
     "metadata": {},
     "output_type": "execute_result"
    }
   ],
   "source": [
    "# 합계 열 추가\n",
    "\n",
    "import copy\n",
    "data_copy = copy.deepcopy(data) # 깊은 복사\n",
    "\n",
    "data_copy[0].append(sum(data[0]))\n",
    "data_copy[1].append(sum(data[1]))\n",
    "data_copy[2].append(sum(data[2]))\n",
    "\n",
    "data_copy"
   ]
  },
  {
   "cell_type": "code",
   "execution_count": 7,
   "metadata": {},
   "outputs": [
    {
     "data": {
      "text/plain": [
       "[[1, 2, 3], [2, 3, 5], [2, 0, 2], [5, 5, 10]]"
      ]
     },
     "execution_count": 7,
     "metadata": {},
     "output_type": "execute_result"
    }
   ],
   "source": [
    "# 합계 행 추가\n",
    "count = 0\n",
    "li = []\n",
    "\n",
    "for j in range(y+1):\n",
    "    for i in range(x):\n",
    "        count += data_copy[i][j]\n",
    "\n",
    "    li.append(count)\n",
    "    count = 0\n",
    "\n",
    "data_copy.append(li)\n",
    "data_copy"
   ]
  },
  {
   "cell_type": "code",
   "execution_count": 8,
   "metadata": {},
   "outputs": [
    {
     "data": {
      "text/plain": [
       "[[1.5, 1.5], [2.5, 2.5], [1.0, 1.0]]"
      ]
     },
     "execution_count": 8,
     "metadata": {},
     "output_type": "execute_result"
    }
   ],
   "source": [
    "# 기대 도수 계산\n",
    "ex_frequency = [[0 for _ in range(y)] for _ in range(x)]\n",
    "\n",
    "for i in range(x):\n",
    "    for j in range(y):\n",
    "        ex_frequency[i][j] = (data_copy[i][y] * data_copy[x][j]) / data_copy[x][y]\n",
    "\n",
    "ex_frequency"
   ]
  },
  {
   "cell_type": "code",
   "execution_count": 9,
   "metadata": {},
   "outputs": [
    {
     "name": "stdout",
     "output_type": "stream",
     "text": [
      "[[0.167, 0.167], [0.1, 0.1], [1.0, 1.0]]\n",
      "카이 제곱 평균은 2.534입니다.\n"
     ]
    }
   ],
   "source": [
    "# 카이 제곱 통계량 계산\n",
    "chi_squared = [[0 for _ in range(y)] for _ in range(x)]\n",
    "\n",
    "for i in range(x):\n",
    "    for j in range(y):\n",
    "        chi_squared[i][j] = round((((data[i][j] - ex_frequency[i][j]) ** 2) / ex_frequency[i][j]), 3)\n",
    "\n",
    "print(chi_squared)\n",
    "chi_square = sum(sum(ix) for ix in chi_squared)\n",
    "print(f\"카이 제곱 평균은 {chi_square}입니다.\")"
   ]
  },
  {
   "cell_type": "code",
   "execution_count": 10,
   "metadata": {},
   "outputs": [
    {
     "data": {
      "text/plain": [
       "5.991"
      ]
     },
     "execution_count": 10,
     "metadata": {},
     "output_type": "execute_result"
    }
   ],
   "source": [
    "# 자유도 기반 임계값 계산\n",
    "\n",
    "df = (x - 1) * (y - 1) # 자유도 (행 - 1) * (열 - 1)\n",
    "p_value = 0.05\n",
    "p_value_level = significance_levels_mapping[p_value]\n",
    "\n",
    "threshold = chi_square_table[df][p_value_level]\n",
    "threshold"
   ]
  },
  {
   "cell_type": "code",
   "execution_count": 11,
   "metadata": {},
   "outputs": [
    {
     "name": "stdout",
     "output_type": "stream",
     "text": [
      "Chi-Square 값은 2.534입니다.\n",
      "자유도 2, 유의 확률 0.05 일때의 임계값 5.991을 가집니다.\n",
      "\n",
      "2.534 < 5.991 이므로 해당 데이터는 서로 유의미한 관계라고 보기 어려움.\n"
     ]
    }
   ],
   "source": [
    "# Result & Evaluate\n",
    "\n",
    "print(f\"Chi-Square 값은 {chi_square}입니다.\")\n",
    "print(f\"자유도 {df}, 유의 확률 {p_value} 일때의 임계값 {threshold}을 가집니다.\\n\")\n",
    "\n",
    "print(f\"{chi_square} < {threshold} 이므로 해당 데이터는 서로 유의미한 관계라고 보기 어려움.\" if (chi_square < threshold) else f\"{chi_square} > {threshold} 이므로 해당 데이터는 서로 유의미한 관계라고 볼 수 있음.\")"
   ]
  }
 ],
 "metadata": {
  "kernelspec": {
   "display_name": "base",
   "language": "python",
   "name": "python3"
  },
  "language_info": {
   "codemirror_mode": {
    "name": "ipython",
    "version": 3
   },
   "file_extension": ".py",
   "mimetype": "text/x-python",
   "name": "python",
   "nbconvert_exporter": "python",
   "pygments_lexer": "ipython3",
   "version": "3.12.7"
  }
 },
 "nbformat": 4,
 "nbformat_minor": 2
}
