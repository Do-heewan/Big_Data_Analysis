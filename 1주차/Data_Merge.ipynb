{
 "cells": [
  {
   "cell_type": "markdown",
   "id": "1401dbe7",
   "metadata": {},
   "source": [
    "# 실습 1"
   ]
  },
  {
   "cell_type": "code",
   "execution_count": 2,
   "id": "567f0220",
   "metadata": {},
   "outputs": [],
   "source": [
    "import pandas as pd"
   ]
  },
  {
   "cell_type": "markdown",
   "id": "fa6dde8e",
   "metadata": {},
   "source": [
    "- pandas를 이용하여 데이터를 병합하고자 한다.\n",
    "- pandas에서는 데이터 병합을 위해 두 가지 함수를 제공한다.\n",
    "    1. merge\n",
    "    2. join"
   ]
  },
  {
   "cell_type": "markdown",
   "id": "f0c6b602",
   "metadata": {},
   "source": [
    "merge는 알아서 눈치있게\n",
    "\n",
    "join은 index를 기준으로 합치기 때문에 index를 제공해야 한다."
   ]
  },
  {
   "cell_type": "markdown",
   "id": "c2c34f18",
   "metadata": {},
   "source": [
    "### merge"
   ]
  },
  {
   "cell_type": "markdown",
   "id": "9249b8b3",
   "metadata": {},
   "source": [
    "`DataFrame.merge(right, how=\"inner\", on=None, left_on=None, right_on=None, left_index=False, right_index=False)`"
   ]
  },
  {
   "cell_type": "markdown",
   "id": "f2b32f9c",
   "metadata": {},
   "source": [
    "### join"
   ]
  },
  {
   "cell_type": "markdown",
   "id": "acd47c3c",
   "metadata": {},
   "source": [
    "`DataFrame.join(other, on=None, how='left)`"
   ]
  },
  {
   "cell_type": "code",
   "execution_count": 6,
   "id": "e3418b32",
   "metadata": {},
   "outputs": [],
   "source": [
    "df1 = pd.DataFrame({\"고객번호\" : [1, 2, 3, 4, 5, 6, 7], \"이름\" : [\"A\", \"B\", \"C\", \"D\", \"E\", \"F\", \"G\"]})\n",
    "df2 = pd.DataFrame({\"고객번호\" : [1, 1, 5, 6, 8, 1], \"금액\" : [1000, 2000, 1500, 500, 10000, 3000]})"
   ]
  },
  {
   "cell_type": "code",
   "execution_count": 10,
   "id": "b9fe32b0",
   "metadata": {},
   "outputs": [
    {
     "name": "stdout",
     "output_type": "stream",
     "text": [
      "   고객번호 이름    금액\n",
      "0     1  A  1000\n",
      "1     1  A  2000\n",
      "2     1  A  3000\n",
      "3     5  E  1500\n",
      "4     6  F   500\n",
      "\n",
      "   고객번호   이름       금액\n",
      "0     1    A   1000.0\n",
      "1     1    A   2000.0\n",
      "2     1    A   3000.0\n",
      "3     2    B      NaN\n",
      "4     3    C      NaN\n",
      "5     4    D      NaN\n",
      "6     5    E   1500.0\n",
      "7     6    F    500.0\n",
      "8     7    G      NaN\n",
      "9     8  NaN  10000.0\n",
      "\n",
      "   고객번호 이름      금액\n",
      "0     1  A  1000.0\n",
      "1     1  A  2000.0\n",
      "2     1  A  3000.0\n",
      "3     2  B     NaN\n",
      "4     3  C     NaN\n",
      "5     4  D     NaN\n",
      "6     5  E  1500.0\n",
      "7     6  F   500.0\n",
      "8     7  G     NaN\n",
      "\n",
      "   고객번호   이름     금액\n",
      "0     1    A   1000\n",
      "1     1    A   2000\n",
      "2     5    E   1500\n",
      "3     6    F    500\n",
      "4     8  NaN  10000\n",
      "5     1    A   3000\n"
     ]
    }
   ],
   "source": [
    "# 1. inner join\n",
    "df_inner = pd.merge(df1, df2, how=\"inner\")\n",
    "\n",
    "# 2. outer join\n",
    "df_outer = pd.merge(df1, df2, how=\"outer\")\n",
    "\n",
    "# 3. left join\n",
    "df_left = pd.merge(df1, df2, how=\"left\")\n",
    "\n",
    "# 4. right join\n",
    "df_right = pd.merge(df1, df2, how=\"right\")\n",
    "\n",
    "print(df_inner, df_outer, df_left, df_right, sep=\"\\n\\n\")"
   ]
  },
  {
   "cell_type": "markdown",
   "id": "ec9b7f05",
   "metadata": {},
   "source": [
    "# 실습 2"
   ]
  },
  {
   "cell_type": "code",
   "execution_count": 23,
   "id": "22719d1d",
   "metadata": {},
   "outputs": [],
   "source": [
    "a = pd.DataFrame({\"품종\" : [\"Setosa\", \"Setosa\", \"Virginica\", \"Virginica\"], \"꽃잎길이\" : [1.4, 1.3, 1.5, 1.3]})\n",
    "b = pd.DataFrame({\"품종\" : [\"Setosa\", \"Virginica\", \"Virginica\", \"versicolor\"], \"꽃잎너비\" : [0.4, 0.3, 0.5, 0.3]})"
   ]
  },
  {
   "cell_type": "code",
   "execution_count": 18,
   "id": "a425f61a",
   "metadata": {},
   "outputs": [
    {
     "data": {
      "text/html": [
       "<div>\n",
       "<style scoped>\n",
       "    .dataframe tbody tr th:only-of-type {\n",
       "        vertical-align: middle;\n",
       "    }\n",
       "\n",
       "    .dataframe tbody tr th {\n",
       "        vertical-align: top;\n",
       "    }\n",
       "\n",
       "    .dataframe thead th {\n",
       "        text-align: right;\n",
       "    }\n",
       "</style>\n",
       "<table border=\"1\" class=\"dataframe\">\n",
       "  <thead>\n",
       "    <tr style=\"text-align: right;\">\n",
       "      <th></th>\n",
       "      <th>품종</th>\n",
       "      <th>꽃잎길이</th>\n",
       "      <th>꽃잎너비</th>\n",
       "    </tr>\n",
       "  </thead>\n",
       "  <tbody>\n",
       "    <tr>\n",
       "      <th>0</th>\n",
       "      <td>Setosa</td>\n",
       "      <td>1.4</td>\n",
       "      <td>0.4</td>\n",
       "    </tr>\n",
       "    <tr>\n",
       "      <th>1</th>\n",
       "      <td>Setosa</td>\n",
       "      <td>1.3</td>\n",
       "      <td>0.4</td>\n",
       "    </tr>\n",
       "    <tr>\n",
       "      <th>2</th>\n",
       "      <td>Virginica</td>\n",
       "      <td>1.5</td>\n",
       "      <td>0.3</td>\n",
       "    </tr>\n",
       "    <tr>\n",
       "      <th>3</th>\n",
       "      <td>Virginica</td>\n",
       "      <td>1.5</td>\n",
       "      <td>0.5</td>\n",
       "    </tr>\n",
       "    <tr>\n",
       "      <th>4</th>\n",
       "      <td>Virginica</td>\n",
       "      <td>1.3</td>\n",
       "      <td>0.3</td>\n",
       "    </tr>\n",
       "    <tr>\n",
       "      <th>5</th>\n",
       "      <td>Virginica</td>\n",
       "      <td>1.3</td>\n",
       "      <td>0.5</td>\n",
       "    </tr>\n",
       "  </tbody>\n",
       "</table>\n",
       "</div>"
      ],
      "text/plain": [
       "          품종  꽃잎길이  꽃잎너비\n",
       "0     Setosa   1.4   0.4\n",
       "1     Setosa   1.3   0.4\n",
       "2  Virginica   1.5   0.3\n",
       "3  Virginica   1.5   0.5\n",
       "4  Virginica   1.3   0.3\n",
       "5  Virginica   1.3   0.5"
      ]
     },
     "execution_count": 18,
     "metadata": {},
     "output_type": "execute_result"
    }
   ],
   "source": [
    "result = pd.merge(a, b, how=\"inner\")\n",
    "result"
   ]
  },
  {
   "cell_type": "code",
   "execution_count": 19,
   "id": "a678d7c9",
   "metadata": {},
   "outputs": [
    {
     "data": {
      "text/html": [
       "<div>\n",
       "<style scoped>\n",
       "    .dataframe tbody tr th:only-of-type {\n",
       "        vertical-align: middle;\n",
       "    }\n",
       "\n",
       "    .dataframe tbody tr th {\n",
       "        vertical-align: top;\n",
       "    }\n",
       "\n",
       "    .dataframe thead th {\n",
       "        text-align: right;\n",
       "    }\n",
       "</style>\n",
       "<table border=\"1\" class=\"dataframe\">\n",
       "  <thead>\n",
       "    <tr style=\"text-align: right;\">\n",
       "      <th></th>\n",
       "      <th>품종</th>\n",
       "      <th>꽃잎길이</th>\n",
       "      <th>꽃잎너비</th>\n",
       "    </tr>\n",
       "  </thead>\n",
       "  <tbody>\n",
       "    <tr>\n",
       "      <th>0</th>\n",
       "      <td>Setosa</td>\n",
       "      <td>1.4</td>\n",
       "      <td>0.4</td>\n",
       "    </tr>\n",
       "    <tr>\n",
       "      <th>1</th>\n",
       "      <td>Setosa</td>\n",
       "      <td>1.3</td>\n",
       "      <td>0.4</td>\n",
       "    </tr>\n",
       "    <tr>\n",
       "      <th>2</th>\n",
       "      <td>Virginica</td>\n",
       "      <td>1.5</td>\n",
       "      <td>0.3</td>\n",
       "    </tr>\n",
       "    <tr>\n",
       "      <th>3</th>\n",
       "      <td>Virginica</td>\n",
       "      <td>1.5</td>\n",
       "      <td>0.5</td>\n",
       "    </tr>\n",
       "    <tr>\n",
       "      <th>4</th>\n",
       "      <td>Virginica</td>\n",
       "      <td>1.3</td>\n",
       "      <td>0.3</td>\n",
       "    </tr>\n",
       "    <tr>\n",
       "      <th>5</th>\n",
       "      <td>Virginica</td>\n",
       "      <td>1.3</td>\n",
       "      <td>0.5</td>\n",
       "    </tr>\n",
       "    <tr>\n",
       "      <th>6</th>\n",
       "      <td>versicolor</td>\n",
       "      <td>NaN</td>\n",
       "      <td>0.3</td>\n",
       "    </tr>\n",
       "  </tbody>\n",
       "</table>\n",
       "</div>"
      ],
      "text/plain": [
       "           품종  꽃잎길이  꽃잎너비\n",
       "0      Setosa   1.4   0.4\n",
       "1      Setosa   1.3   0.4\n",
       "2   Virginica   1.5   0.3\n",
       "3   Virginica   1.5   0.5\n",
       "4   Virginica   1.3   0.3\n",
       "5   Virginica   1.3   0.5\n",
       "6  versicolor   NaN   0.3"
      ]
     },
     "execution_count": 19,
     "metadata": {},
     "output_type": "execute_result"
    }
   ],
   "source": [
    "result = pd.merge(a, b, how=\"outer\")\n",
    "result"
   ]
  },
  {
   "cell_type": "markdown",
   "id": "673716ee",
   "metadata": {},
   "source": [
    "# 실습 3"
   ]
  },
  {
   "cell_type": "markdown",
   "id": "bff91cd4",
   "metadata": {},
   "source": [
    "기준 열이 여러 개 인 경우\n",
    "- 고객명, 데이터가 중복으로 있는 경우에는 어떻게 합치면 될까?"
   ]
  },
  {
   "cell_type": "code",
   "execution_count": 22,
   "id": "a974a325",
   "metadata": {},
   "outputs": [],
   "source": [
    "df1 = pd.DataFrame({\"고객명\" : [\"홍길동\", \"홍길동\", \"콩순이\"], \"날짜\" : [250101, 250102, 250101], \"데이터\" : [100, 200, 500]})\n",
    "df2 = pd.DataFrame({\"고객명\" : [\"홍길동\", \"콩순이\"], \"데이터\" : [\"남자\", \"여자\"]})"
   ]
  },
  {
   "cell_type": "code",
   "execution_count": 27,
   "id": "2c11c4cd",
   "metadata": {},
   "outputs": [
    {
     "data": {
      "text/html": [
       "<div>\n",
       "<style scoped>\n",
       "    .dataframe tbody tr th:only-of-type {\n",
       "        vertical-align: middle;\n",
       "    }\n",
       "\n",
       "    .dataframe tbody tr th {\n",
       "        vertical-align: top;\n",
       "    }\n",
       "\n",
       "    .dataframe thead th {\n",
       "        text-align: right;\n",
       "    }\n",
       "</style>\n",
       "<table border=\"1\" class=\"dataframe\">\n",
       "  <thead>\n",
       "    <tr style=\"text-align: right;\">\n",
       "      <th></th>\n",
       "      <th>고객명</th>\n",
       "      <th>날짜</th>\n",
       "      <th>데이터_x</th>\n",
       "      <th>데이터_y</th>\n",
       "    </tr>\n",
       "  </thead>\n",
       "  <tbody>\n",
       "    <tr>\n",
       "      <th>0</th>\n",
       "      <td>홍길동</td>\n",
       "      <td>250101</td>\n",
       "      <td>100</td>\n",
       "      <td>남자</td>\n",
       "    </tr>\n",
       "    <tr>\n",
       "      <th>1</th>\n",
       "      <td>홍길동</td>\n",
       "      <td>250102</td>\n",
       "      <td>200</td>\n",
       "      <td>남자</td>\n",
       "    </tr>\n",
       "    <tr>\n",
       "      <th>2</th>\n",
       "      <td>콩순이</td>\n",
       "      <td>250101</td>\n",
       "      <td>500</td>\n",
       "      <td>여자</td>\n",
       "    </tr>\n",
       "  </tbody>\n",
       "</table>\n",
       "</div>"
      ],
      "text/plain": [
       "   고객명      날짜  데이터_x 데이터_y\n",
       "0  홍길동  250101    100    남자\n",
       "1  홍길동  250102    200    남자\n",
       "2  콩순이  250101    500    여자"
      ]
     },
     "execution_count": 27,
     "metadata": {},
     "output_type": "execute_result"
    }
   ],
   "source": [
    "result = pd.merge(df1, df2, how=\"inner\", on=\"고객명\") # 기준이 되는 열 명시\n",
    "result"
   ]
  }
 ],
 "metadata": {
  "kernelspec": {
   "display_name": "base",
   "language": "python",
   "name": "python3"
  },
  "language_info": {
   "codemirror_mode": {
    "name": "ipython",
    "version": 3
   },
   "file_extension": ".py",
   "mimetype": "text/x-python",
   "name": "python",
   "nbconvert_exporter": "python",
   "pygments_lexer": "ipython3",
   "version": "3.12.7"
  }
 },
 "nbformat": 4,
 "nbformat_minor": 5
}
